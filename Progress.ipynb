{
 "cells": [
  {
   "cell_type": "code",
   "execution_count": 1,
   "id": "9bd0fd97-17af-4725-ad49-2bfffd651080",
   "metadata": {},
   "outputs": [],
   "source": [
    "import numpy as np # linear algebra\n",
    "import pandas as pd # data processing, CSV file I/O (e.g. pd.read_csv)"
   ]
  },
  {
   "cell_type": "code",
   "execution_count": 3,
   "id": "34f90f14-6261-4887-962b-59fff96fcc2d",
   "metadata": {},
   "outputs": [],
   "source": [
    "df = pd.read_parquet('./Flight_Delay.parquet')"
   ]
  },
  {
   "cell_type": "code",
   "execution_count": 4,
   "id": "7a3692ab-e4cf-4f20-9152-be21862e9fa8",
   "metadata": {},
   "outputs": [
    {
     "data": {
      "text/plain": [
       "30132672"
      ]
     },
     "execution_count": 4,
     "metadata": {},
     "output_type": "execute_result"
    }
   ],
   "source": [
    "item0 = df.shape[0]\n",
    "item0"
   ]
  },
  {
   "cell_type": "code",
   "execution_count": 5,
   "id": "933e6b9f-d223-45cc-a0df-9a23664789bb",
   "metadata": {},
   "outputs": [
    {
     "name": "stdout",
     "output_type": "stream",
     "text": [
      "<class 'pandas.core.frame.DataFrame'>\n",
      "Int64Index: 30132672 entries, 1 to 596675\n",
      "Data columns (total 29 columns):\n",
      " #   Column                     Dtype  \n",
      "---  ------                     -----  \n",
      " 0   Year                       int64  \n",
      " 1   Month                      int64  \n",
      " 2   DayofMonth                 int64  \n",
      " 3   FlightDate                 object \n",
      " 4   Marketing_Airline_Network  object \n",
      " 5   OriginCityName             object \n",
      " 6   DestCityName               object \n",
      " 7   CRSDepTime                 int64  \n",
      " 8   DepTime                    float64\n",
      " 9   DepDelay                   float64\n",
      " 10  DepDelayMinutes            float64\n",
      " 11  TaxiOut                    float64\n",
      " 12  WheelsOff                  float64\n",
      " 13  WheelsOn                   float64\n",
      " 14  TaxiIn                     float64\n",
      " 15  CRSArrTime                 int64  \n",
      " 16  ArrTime                    float64\n",
      " 17  ArrDelay                   float64\n",
      " 18  ArrDelayMinutes            float64\n",
      " 19  CRSElapsedTime             float64\n",
      " 20  ActualElapsedTime          float64\n",
      " 21  AirTime                    float64\n",
      " 22  Distance                   float64\n",
      " 23  DistanceGroup              int64  \n",
      " 24  CarrierDelay               float64\n",
      " 25  WeatherDelay               float64\n",
      " 26  NASDelay                   float64\n",
      " 27  SecurityDelay              float64\n",
      " 28  LateAircraftDelay          float64\n",
      "dtypes: float64(19), int64(6), object(4)\n",
      "memory usage: 6.7+ GB\n"
     ]
    }
   ],
   "source": [
    "df.info()"
   ]
  },
  {
   "cell_type": "code",
   "execution_count": 6,
   "id": "3d0adc66-c7d0-47b3-b10a-3e4312e64857",
   "metadata": {},
   "outputs": [
    {
     "name": "stdout",
     "output_type": "stream",
     "text": [
      "There are 0 duplicates found in the dataset\n",
      "(30132672, 29)\n"
     ]
    },
    {
     "data": {
      "text/html": [
       "<div>\n",
       "<style scoped>\n",
       "    .dataframe tbody tr th:only-of-type {\n",
       "        vertical-align: middle;\n",
       "    }\n",
       "\n",
       "    .dataframe tbody tr th {\n",
       "        vertical-align: top;\n",
       "    }\n",
       "\n",
       "    .dataframe thead th {\n",
       "        text-align: right;\n",
       "    }\n",
       "</style>\n",
       "<table border=\"1\" class=\"dataframe\">\n",
       "  <thead>\n",
       "    <tr style=\"text-align: right;\">\n",
       "      <th></th>\n",
       "      <th>63083</th>\n",
       "      <th>550936</th>\n",
       "      <th>240681</th>\n",
       "      <th>475395</th>\n",
       "      <th>315052</th>\n",
       "    </tr>\n",
       "  </thead>\n",
       "  <tbody>\n",
       "    <tr>\n",
       "      <th>FlightDelay</th>\n",
       "      <td>-2.0</td>\n",
       "      <td>0.0</td>\n",
       "      <td>-18.0</td>\n",
       "      <td>-10.0</td>\n",
       "      <td>1.0</td>\n",
       "    </tr>\n",
       "    <tr>\n",
       "      <th>DepDelay</th>\n",
       "      <td>94.0</td>\n",
       "      <td>0.0</td>\n",
       "      <td>-1.0</td>\n",
       "      <td>-11.0</td>\n",
       "      <td>-2.0</td>\n",
       "    </tr>\n",
       "    <tr>\n",
       "      <th>FlightDate</th>\n",
       "      <td>2018-08-11</td>\n",
       "      <td>2019-02-14</td>\n",
       "      <td>2021-11-13</td>\n",
       "      <td>2022-10-08</td>\n",
       "      <td>2022-10-17</td>\n",
       "    </tr>\n",
       "    <tr>\n",
       "      <th>DepTime</th>\n",
       "      <td>1951.0</td>\n",
       "      <td>1110.0</td>\n",
       "      <td>1807.0</td>\n",
       "      <td>1109.0</td>\n",
       "      <td>608.0</td>\n",
       "    </tr>\n",
       "    <tr>\n",
       "      <th>Marketing_Airline_Network</th>\n",
       "      <td>AA</td>\n",
       "      <td>WN</td>\n",
       "      <td>AA</td>\n",
       "      <td>AS</td>\n",
       "      <td>WN</td>\n",
       "    </tr>\n",
       "    <tr>\n",
       "      <th>OriginCityName</th>\n",
       "      <td>Austin, TX</td>\n",
       "      <td>Minneapolis, MN</td>\n",
       "      <td>Charlotte, NC</td>\n",
       "      <td>Santa Ana, CA</td>\n",
       "      <td>Providence, RI</td>\n",
       "    </tr>\n",
       "    <tr>\n",
       "      <th>DestCityName</th>\n",
       "      <td>Dallas/Fort Worth, TX</td>\n",
       "      <td>Chicago, IL</td>\n",
       "      <td>Washington, DC</td>\n",
       "      <td>Portland, OR</td>\n",
       "      <td>Baltimore, MD</td>\n",
       "    </tr>\n",
       "    <tr>\n",
       "      <th>Distance</th>\n",
       "      <td>190.0</td>\n",
       "      <td>349.0</td>\n",
       "      <td>322.0</td>\n",
       "      <td>859.0</td>\n",
       "      <td>327.0</td>\n",
       "    </tr>\n",
       "  </tbody>\n",
       "</table>\n",
       "</div>"
      ],
      "text/plain": [
       "                                          63083            550936  \\\n",
       "FlightDelay                                 -2.0              0.0   \n",
       "DepDelay                                    94.0              0.0   \n",
       "FlightDate                            2018-08-11       2019-02-14   \n",
       "DepTime                                   1951.0           1110.0   \n",
       "Marketing_Airline_Network                     AA               WN   \n",
       "OriginCityName                        Austin, TX  Minneapolis, MN   \n",
       "DestCityName               Dallas/Fort Worth, TX      Chicago, IL   \n",
       "Distance                                   190.0            349.0   \n",
       "\n",
       "                                   240681         475395          315052  \n",
       "FlightDelay                         -18.0          -10.0             1.0  \n",
       "DepDelay                             -1.0          -11.0            -2.0  \n",
       "FlightDate                     2021-11-13     2022-10-08      2022-10-17  \n",
       "DepTime                            1807.0         1109.0           608.0  \n",
       "Marketing_Airline_Network              AA             AS              WN  \n",
       "OriginCityName              Charlotte, NC  Santa Ana, CA  Providence, RI  \n",
       "DestCityName               Washington, DC   Portland, OR   Baltimore, MD  \n",
       "Distance                            322.0          859.0           327.0  "
      ]
     },
     "execution_count": 6,
     "metadata": {},
     "output_type": "execute_result"
    }
   ],
   "source": [
    "df = df.drop_duplicates()\n",
    "item1 = df.shape[0]\n",
    "print(f\"There are {item0-item1} duplicates found in the dataset\")\n",
    "print(df.shape)\n",
    "# calculate flight delay - the difference between arrival and departure delays\n",
    "df['FlightDelay'] = df['ArrDelay'] - df['DepDelay']\n",
    "# use only selected columns\n",
    "selected_cols = ['FlightDelay', 'DepDelay', 'FlightDate', 'DepTime', 'Marketing_Airline_Network', 'OriginCityName', 'DestCityName', 'Distance']\n",
    "df = df[selected_cols]\n",
    "df.sample(5).T"
   ]
  },
  {
   "cell_type": "code",
   "execution_count": null,
   "id": "57bd86f2-5776-4444-bb73-14fa43851a6e",
   "metadata": {},
   "outputs": [],
   "source": []
  }
 ],
 "metadata": {
  "kernelspec": {
   "display_name": "base",
   "language": "python",
   "name": "python3"
  },
  "language_info": {
   "codemirror_mode": {
    "name": "ipython",
    "version": 3
   },
   "file_extension": ".py",
   "mimetype": "text/x-python",
   "name": "python",
   "nbconvert_exporter": "python",
   "pygments_lexer": "ipython3",
   "version": "3.11.4"
  }
 },
 "nbformat": 4,
 "nbformat_minor": 5
}
