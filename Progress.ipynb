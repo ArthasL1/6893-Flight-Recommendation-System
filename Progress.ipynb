{
 "cells": [
  {
   "cell_type": "code",
   "execution_count": 1,
   "id": "9bd0fd97-17af-4725-ad49-2bfffd651080",
   "metadata": {},
   "outputs": [],
   "source": [
    "import numpy as np # linear algebra\n",
    "import pandas as pd # data processing, CSV file I/O (e.g. pd.read_csv)"
   ]
  },
  {
   "cell_type": "code",
   "execution_count": 2,
   "id": "34f90f14-6261-4887-962b-59fff96fcc2d",
   "metadata": {},
   "outputs": [],
   "source": [
    "df = pd.read_parquet('./Flight_Delay.parquet')"
   ]
  },
  {
   "cell_type": "code",
   "execution_count": 3,
   "id": "7a3692ab-e4cf-4f20-9152-be21862e9fa8",
   "metadata": {},
   "outputs": [
    {
     "data": {
      "text/plain": [
       "30132672"
      ]
     },
     "execution_count": 3,
     "metadata": {},
     "output_type": "execute_result"
    }
   ],
   "source": [
    "item0 = df.shape[0]\n",
    "item0"
   ]
  },
  {
   "cell_type": "code",
   "execution_count": 4,
   "id": "933e6b9f-d223-45cc-a0df-9a23664789bb",
   "metadata": {},
   "outputs": [
    {
     "name": "stdout",
     "output_type": "stream",
     "text": [
      "<class 'pandas.core.frame.DataFrame'>\n",
      "Index: 30132672 entries, 1 to 596675\n",
      "Data columns (total 29 columns):\n",
      " #   Column                     Dtype  \n",
      "---  ------                     -----  \n",
      " 0   Year                       int64  \n",
      " 1   Month                      int64  \n",
      " 2   DayofMonth                 int64  \n",
      " 3   FlightDate                 object \n",
      " 4   Marketing_Airline_Network  object \n",
      " 5   OriginCityName             object \n",
      " 6   DestCityName               object \n",
      " 7   CRSDepTime                 int64  \n",
      " 8   DepTime                    float64\n",
      " 9   DepDelay                   float64\n",
      " 10  DepDelayMinutes            float64\n",
      " 11  TaxiOut                    float64\n",
      " 12  WheelsOff                  float64\n",
      " 13  WheelsOn                   float64\n",
      " 14  TaxiIn                     float64\n",
      " 15  CRSArrTime                 int64  \n",
      " 16  ArrTime                    float64\n",
      " 17  ArrDelay                   float64\n",
      " 18  ArrDelayMinutes            float64\n",
      " 19  CRSElapsedTime             float64\n",
      " 20  ActualElapsedTime          float64\n",
      " 21  AirTime                    float64\n",
      " 22  Distance                   float64\n",
      " 23  DistanceGroup              int64  \n",
      " 24  CarrierDelay               float64\n",
      " 25  WeatherDelay               float64\n",
      " 26  NASDelay                   float64\n",
      " 27  SecurityDelay              float64\n",
      " 28  LateAircraftDelay          float64\n",
      "dtypes: float64(19), int64(6), object(4)\n",
      "memory usage: 6.7+ GB\n"
     ]
    }
   ],
   "source": [
    "df.info()"
   ]
  },
  {
   "cell_type": "code",
   "execution_count": 5,
   "id": "3d0adc66-c7d0-47b3-b10a-3e4312e64857",
   "metadata": {},
   "outputs": [
    {
     "name": "stdout",
     "output_type": "stream",
     "text": [
      "There are 0 duplicates found in the dataset\n",
      "(30132672, 29)\n"
     ]
    },
    {
     "data": {
      "text/html": [
       "<div>\n",
       "<style scoped>\n",
       "    .dataframe tbody tr th:only-of-type {\n",
       "        vertical-align: middle;\n",
       "    }\n",
       "\n",
       "    .dataframe tbody tr th {\n",
       "        vertical-align: top;\n",
       "    }\n",
       "\n",
       "    .dataframe thead th {\n",
       "        text-align: right;\n",
       "    }\n",
       "</style>\n",
       "<table border=\"1\" class=\"dataframe\">\n",
       "  <thead>\n",
       "    <tr style=\"text-align: right;\">\n",
       "      <th></th>\n",
       "      <th>188981</th>\n",
       "      <th>231156</th>\n",
       "      <th>232312</th>\n",
       "      <th>561575</th>\n",
       "      <th>22989</th>\n",
       "    </tr>\n",
       "  </thead>\n",
       "  <tbody>\n",
       "    <tr>\n",
       "      <th>FlightDelay</th>\n",
       "      <td>-8.0</td>\n",
       "      <td>-17.0</td>\n",
       "      <td>-10.0</td>\n",
       "      <td>-5.0</td>\n",
       "      <td>-18.0</td>\n",
       "    </tr>\n",
       "    <tr>\n",
       "      <th>DepDelay</th>\n",
       "      <td>0.0</td>\n",
       "      <td>1.0</td>\n",
       "      <td>-4.0</td>\n",
       "      <td>-3.0</td>\n",
       "      <td>-2.0</td>\n",
       "    </tr>\n",
       "    <tr>\n",
       "      <th>FlightDate</th>\n",
       "      <td>2022-07-08</td>\n",
       "      <td>2023-01-16</td>\n",
       "      <td>2023-02-08</td>\n",
       "      <td>2020-01-24</td>\n",
       "      <td>2018-07-20</td>\n",
       "    </tr>\n",
       "    <tr>\n",
       "      <th>DepTime</th>\n",
       "      <td>1030.0</td>\n",
       "      <td>1829.0</td>\n",
       "      <td>1208.0</td>\n",
       "      <td>1357.0</td>\n",
       "      <td>1816.0</td>\n",
       "    </tr>\n",
       "    <tr>\n",
       "      <th>Marketing_Airline_Network</th>\n",
       "      <td>DL</td>\n",
       "      <td>AA</td>\n",
       "      <td>UA</td>\n",
       "      <td>DL</td>\n",
       "      <td>AA</td>\n",
       "    </tr>\n",
       "    <tr>\n",
       "      <th>OriginCityName</th>\n",
       "      <td>Charleston, SC</td>\n",
       "      <td>Miami, FL</td>\n",
       "      <td>Miami, FL</td>\n",
       "      <td>Milwaukee, WI</td>\n",
       "      <td>Oklahoma City, OK</td>\n",
       "    </tr>\n",
       "    <tr>\n",
       "      <th>DestCityName</th>\n",
       "      <td>Atlanta, GA</td>\n",
       "      <td>Chicago, IL</td>\n",
       "      <td>Newark, NJ</td>\n",
       "      <td>Atlanta, GA</td>\n",
       "      <td>Dallas/Fort Worth, TX</td>\n",
       "    </tr>\n",
       "    <tr>\n",
       "      <th>Distance</th>\n",
       "      <td>259.0</td>\n",
       "      <td>1197.0</td>\n",
       "      <td>1085.0</td>\n",
       "      <td>669.0</td>\n",
       "      <td>175.0</td>\n",
       "    </tr>\n",
       "  </tbody>\n",
       "</table>\n",
       "</div>"
      ],
      "text/plain": [
       "                                   188981       231156      232312  \\\n",
       "FlightDelay                          -8.0        -17.0       -10.0   \n",
       "DepDelay                              0.0          1.0        -4.0   \n",
       "FlightDate                     2022-07-08   2023-01-16  2023-02-08   \n",
       "DepTime                            1030.0       1829.0      1208.0   \n",
       "Marketing_Airline_Network              DL           AA          UA   \n",
       "OriginCityName             Charleston, SC    Miami, FL   Miami, FL   \n",
       "DestCityName                  Atlanta, GA  Chicago, IL  Newark, NJ   \n",
       "Distance                            259.0       1197.0      1085.0   \n",
       "\n",
       "                                  561575                 22989   \n",
       "FlightDelay                         -5.0                  -18.0  \n",
       "DepDelay                            -3.0                   -2.0  \n",
       "FlightDate                    2020-01-24             2018-07-20  \n",
       "DepTime                           1357.0                 1816.0  \n",
       "Marketing_Airline_Network             DL                     AA  \n",
       "OriginCityName             Milwaukee, WI      Oklahoma City, OK  \n",
       "DestCityName                 Atlanta, GA  Dallas/Fort Worth, TX  \n",
       "Distance                           669.0                  175.0  "
      ]
     },
     "execution_count": 5,
     "metadata": {},
     "output_type": "execute_result"
    }
   ],
   "source": [
    "df = df.drop_duplicates()\n",
    "item1 = df.shape[0]\n",
    "print(f\"There are {item0-item1} duplicates found in the dataset\")\n",
    "print(df.shape)\n",
    "# calculate flight delay - the difference between arrival and departure delays\n",
    "df['FlightDelay'] = df['ArrDelay'] - df['DepDelay']\n",
    "# use only selected columns\n",
    "selected_cols = ['FlightDelay', 'DepDelay', 'FlightDate', 'DepTime', 'Marketing_Airline_Network', 'OriginCityName', 'DestCityName', 'Distance']\n",
    "df = df[selected_cols]\n",
    "df.sample(5).T"
   ]
  },
  {
   "cell_type": "code",
   "execution_count": null,
   "id": "57bd86f2-5776-4444-bb73-14fa43851a6e",
   "metadata": {},
   "outputs": [],
   "source": []
  },
  {
   "cell_type": "code",
   "execution_count": null,
   "id": "3fed4610-a2b6-4757-8b14-c0246a8b5112",
   "metadata": {},
   "outputs": [],
   "source": []
  },
  {
   "cell_type": "code",
   "execution_count": null,
   "id": "25916cf5-0011-40e9-982f-189422664cce",
   "metadata": {},
   "outputs": [],
   "source": []
  }
 ],
 "metadata": {
  "kernelspec": {
   "display_name": "Python 3 (ipykernel)",
   "language": "python",
   "name": "python3"
  },
  "language_info": {
   "codemirror_mode": {
    "name": "ipython",
    "version": 3
   },
   "file_extension": ".py",
   "mimetype": "text/x-python",
   "name": "python",
   "nbconvert_exporter": "python",
   "pygments_lexer": "ipython3",
   "version": "3.12.7"
  }
 },
 "nbformat": 4,
 "nbformat_minor": 5
}
